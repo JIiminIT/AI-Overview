{
 "cells": [
  {
   "cell_type": "code",
   "execution_count": 2,
   "id": "initial_id",
   "metadata": {
    "collapsed": true,
    "ExecuteTime": {
     "end_time": "2025-03-11T00:38:56.054293Z",
     "start_time": "2025-03-11T00:38:55.515560Z"
    }
   },
   "outputs": [],
   "source": [
    "import pandas as pd\n",
    "import numpy as np\n",
    "import requests\n",
    "import matplotlib.pyplot as plt\n",
    "from sklearn.model_selection import train_test_split\n",
    "from sklearn.ensemble import RandomForestClassifier\n",
    "from sklearn.metrics import accuracy_score, classification_report, roc_curve, auc\n",
    "\n",
    "# 데이터 불러오기\n",
    "data = pd.read_csv('/Users/gangjimin/PycharmProjects/AI-Overview/week2/mobile.csv')\n"
   ]
  },
  {
   "cell_type": "code",
   "outputs": [
    {
     "name": "stdout",
     "output_type": "stream",
     "text": [
      "   battery_power  blue  clock_speed  dual_sim  fc  four_g  int_memory  m_dep  \\\n",
      "0            842     0          2.2         0   1       0           7    0.6   \n",
      "1           1021     1          0.5         1   0       1          53    0.7   \n",
      "2            563     1          0.5         1   2       1          41    0.9   \n",
      "3            615     1          2.5         0   0       0          10    0.8   \n",
      "4           1821     1          1.2         0  13       1          44    0.6   \n",
      "\n",
      "   mobile_wt  n_cores  ...  px_height  px_width   ram  sc_h  sc_w  talk_time  \\\n",
      "0        188        2  ...         20       756  2549     9     7         19   \n",
      "1        136        3  ...        905      1988  2631    17     3          7   \n",
      "2        145        5  ...       1263      1716  2603    11     2          9   \n",
      "3        131        6  ...       1216      1786  2769    16     8         11   \n",
      "4        141        2  ...       1208      1212  1411     8     2         15   \n",
      "\n",
      "   three_g  touch_screen  wifi  price_range  \n",
      "0        0             0     1            1  \n",
      "1        1             1     0            2  \n",
      "2        1             1     0            2  \n",
      "3        1             0     0            2  \n",
      "4        1             1     0            1  \n",
      "\n",
      "[5 rows x 21 columns]\n",
      "0       1\n",
      "1       2\n",
      "2       2\n",
      "3       2\n",
      "4       1\n",
      "       ..\n",
      "1995    0\n",
      "1996    2\n",
      "1997    3\n",
      "1998    0\n",
      "1999    3\n",
      "Name: price_range, Length: 2000, dtype: int64\n"
     ]
    },
    {
     "data": {
      "text/plain": "      battery_power  blue  clock_speed  dual_sim    fc  four_g  int_memory  \\\n0              True  True         True      True  True    True        True   \n1              True  True         True      True  True    True        True   \n2              True  True         True      True  True    True        True   \n3              True  True         True      True  True    True        True   \n4              True  True         True      True  True    True        True   \n...             ...   ...          ...       ...   ...     ...         ...   \n1995           True  True         True      True  True    True        True   \n1996           True  True         True      True  True    True        True   \n1997           True  True         True      True  True    True        True   \n1998           True  True         True      True  True    True        True   \n1999           True  True         True      True  True    True        True   \n\n      m_dep  mobile_wt  n_cores  ...  px_height  px_width   ram  sc_h  sc_w  \\\n0      True       True     True  ...       True      True  True  True  True   \n1      True       True     True  ...       True      True  True  True  True   \n2      True       True     True  ...       True      True  True  True  True   \n3      True       True     True  ...       True      True  True  True  True   \n4      True       True     True  ...       True      True  True  True  True   \n...     ...        ...      ...  ...        ...       ...   ...   ...   ...   \n1995   True       True     True  ...       True      True  True  True  True   \n1996   True       True     True  ...       True      True  True  True  True   \n1997   True       True     True  ...       True      True  True  True  True   \n1998   True       True     True  ...       True      True  True  True  True   \n1999   True       True     True  ...       True      True  True  True  True   \n\n      talk_time  three_g  touch_screen  wifi  price_range  \n0          True     True          True  True         True  \n1          True     True          True  True         True  \n2          True     True          True  True         True  \n3          True     True          True  True         True  \n4          True     True          True  True         True  \n...         ...      ...           ...   ...          ...  \n1995       True     True          True  True         True  \n1996       True     True          True  True         True  \n1997       True     True          True  True         True  \n1998       True     True          True  True         True  \n1999       True     True          True  True         True  \n\n[2000 rows x 21 columns]",
      "text/html": "<div>\n<style scoped>\n    .dataframe tbody tr th:only-of-type {\n        vertical-align: middle;\n    }\n\n    .dataframe tbody tr th {\n        vertical-align: top;\n    }\n\n    .dataframe thead th {\n        text-align: right;\n    }\n</style>\n<table border=\"1\" class=\"dataframe\">\n  <thead>\n    <tr style=\"text-align: right;\">\n      <th></th>\n      <th>battery_power</th>\n      <th>blue</th>\n      <th>clock_speed</th>\n      <th>dual_sim</th>\n      <th>fc</th>\n      <th>four_g</th>\n      <th>int_memory</th>\n      <th>m_dep</th>\n      <th>mobile_wt</th>\n      <th>n_cores</th>\n      <th>...</th>\n      <th>px_height</th>\n      <th>px_width</th>\n      <th>ram</th>\n      <th>sc_h</th>\n      <th>sc_w</th>\n      <th>talk_time</th>\n      <th>three_g</th>\n      <th>touch_screen</th>\n      <th>wifi</th>\n      <th>price_range</th>\n    </tr>\n  </thead>\n  <tbody>\n    <tr>\n      <th>0</th>\n      <td>True</td>\n      <td>True</td>\n      <td>True</td>\n      <td>True</td>\n      <td>True</td>\n      <td>True</td>\n      <td>True</td>\n      <td>True</td>\n      <td>True</td>\n      <td>True</td>\n      <td>...</td>\n      <td>True</td>\n      <td>True</td>\n      <td>True</td>\n      <td>True</td>\n      <td>True</td>\n      <td>True</td>\n      <td>True</td>\n      <td>True</td>\n      <td>True</td>\n      <td>True</td>\n    </tr>\n    <tr>\n      <th>1</th>\n      <td>True</td>\n      <td>True</td>\n      <td>True</td>\n      <td>True</td>\n      <td>True</td>\n      <td>True</td>\n      <td>True</td>\n      <td>True</td>\n      <td>True</td>\n      <td>True</td>\n      <td>...</td>\n      <td>True</td>\n      <td>True</td>\n      <td>True</td>\n      <td>True</td>\n      <td>True</td>\n      <td>True</td>\n      <td>True</td>\n      <td>True</td>\n      <td>True</td>\n      <td>True</td>\n    </tr>\n    <tr>\n      <th>2</th>\n      <td>True</td>\n      <td>True</td>\n      <td>True</td>\n      <td>True</td>\n      <td>True</td>\n      <td>True</td>\n      <td>True</td>\n      <td>True</td>\n      <td>True</td>\n      <td>True</td>\n      <td>...</td>\n      <td>True</td>\n      <td>True</td>\n      <td>True</td>\n      <td>True</td>\n      <td>True</td>\n      <td>True</td>\n      <td>True</td>\n      <td>True</td>\n      <td>True</td>\n      <td>True</td>\n    </tr>\n    <tr>\n      <th>3</th>\n      <td>True</td>\n      <td>True</td>\n      <td>True</td>\n      <td>True</td>\n      <td>True</td>\n      <td>True</td>\n      <td>True</td>\n      <td>True</td>\n      <td>True</td>\n      <td>True</td>\n      <td>...</td>\n      <td>True</td>\n      <td>True</td>\n      <td>True</td>\n      <td>True</td>\n      <td>True</td>\n      <td>True</td>\n      <td>True</td>\n      <td>True</td>\n      <td>True</td>\n      <td>True</td>\n    </tr>\n    <tr>\n      <th>4</th>\n      <td>True</td>\n      <td>True</td>\n      <td>True</td>\n      <td>True</td>\n      <td>True</td>\n      <td>True</td>\n      <td>True</td>\n      <td>True</td>\n      <td>True</td>\n      <td>True</td>\n      <td>...</td>\n      <td>True</td>\n      <td>True</td>\n      <td>True</td>\n      <td>True</td>\n      <td>True</td>\n      <td>True</td>\n      <td>True</td>\n      <td>True</td>\n      <td>True</td>\n      <td>True</td>\n    </tr>\n    <tr>\n      <th>...</th>\n      <td>...</td>\n      <td>...</td>\n      <td>...</td>\n      <td>...</td>\n      <td>...</td>\n      <td>...</td>\n      <td>...</td>\n      <td>...</td>\n      <td>...</td>\n      <td>...</td>\n      <td>...</td>\n      <td>...</td>\n      <td>...</td>\n      <td>...</td>\n      <td>...</td>\n      <td>...</td>\n      <td>...</td>\n      <td>...</td>\n      <td>...</td>\n      <td>...</td>\n      <td>...</td>\n    </tr>\n    <tr>\n      <th>1995</th>\n      <td>True</td>\n      <td>True</td>\n      <td>True</td>\n      <td>True</td>\n      <td>True</td>\n      <td>True</td>\n      <td>True</td>\n      <td>True</td>\n      <td>True</td>\n      <td>True</td>\n      <td>...</td>\n      <td>True</td>\n      <td>True</td>\n      <td>True</td>\n      <td>True</td>\n      <td>True</td>\n      <td>True</td>\n      <td>True</td>\n      <td>True</td>\n      <td>True</td>\n      <td>True</td>\n    </tr>\n    <tr>\n      <th>1996</th>\n      <td>True</td>\n      <td>True</td>\n      <td>True</td>\n      <td>True</td>\n      <td>True</td>\n      <td>True</td>\n      <td>True</td>\n      <td>True</td>\n      <td>True</td>\n      <td>True</td>\n      <td>...</td>\n      <td>True</td>\n      <td>True</td>\n      <td>True</td>\n      <td>True</td>\n      <td>True</td>\n      <td>True</td>\n      <td>True</td>\n      <td>True</td>\n      <td>True</td>\n      <td>True</td>\n    </tr>\n    <tr>\n      <th>1997</th>\n      <td>True</td>\n      <td>True</td>\n      <td>True</td>\n      <td>True</td>\n      <td>True</td>\n      <td>True</td>\n      <td>True</td>\n      <td>True</td>\n      <td>True</td>\n      <td>True</td>\n      <td>...</td>\n      <td>True</td>\n      <td>True</td>\n      <td>True</td>\n      <td>True</td>\n      <td>True</td>\n      <td>True</td>\n      <td>True</td>\n      <td>True</td>\n      <td>True</td>\n      <td>True</td>\n    </tr>\n    <tr>\n      <th>1998</th>\n      <td>True</td>\n      <td>True</td>\n      <td>True</td>\n      <td>True</td>\n      <td>True</td>\n      <td>True</td>\n      <td>True</td>\n      <td>True</td>\n      <td>True</td>\n      <td>True</td>\n      <td>...</td>\n      <td>True</td>\n      <td>True</td>\n      <td>True</td>\n      <td>True</td>\n      <td>True</td>\n      <td>True</td>\n      <td>True</td>\n      <td>True</td>\n      <td>True</td>\n      <td>True</td>\n    </tr>\n    <tr>\n      <th>1999</th>\n      <td>True</td>\n      <td>True</td>\n      <td>True</td>\n      <td>True</td>\n      <td>True</td>\n      <td>True</td>\n      <td>True</td>\n      <td>True</td>\n      <td>True</td>\n      <td>True</td>\n      <td>...</td>\n      <td>True</td>\n      <td>True</td>\n      <td>True</td>\n      <td>True</td>\n      <td>True</td>\n      <td>True</td>\n      <td>True</td>\n      <td>True</td>\n      <td>True</td>\n      <td>True</td>\n    </tr>\n  </tbody>\n</table>\n<p>2000 rows × 21 columns</p>\n</div>"
     },
     "execution_count": 3,
     "metadata": {},
     "output_type": "execute_result"
    }
   ],
   "source": [
    "url = \"https://raw.githubusercontent.com/MyungKyuYi/AI-class/main/mobile.csv\"\n",
    "test_df = pd.read_csv(url)\n",
    "print(test_df.head())  \n",
    "print(data['price_range'])\n",
    "\n",
    "data == test_df"
   ],
   "metadata": {
    "collapsed": false,
    "ExecuteTime": {
     "end_time": "2025-03-11T00:38:56.246087Z",
     "start_time": "2025-03-11T00:38:56.153366Z"
    }
   },
   "id": "6741d2ca15b9ba55",
   "execution_count": 3
  },
  {
   "cell_type": "code",
   "outputs": [
    {
     "name": "stdout",
     "output_type": "stream",
     "text": [
      "   Num.  subject_ID Sex(M/F)  Age(year)  Height(cm)  Weight(kg)  \\\n",
      "0     1           2   Female         45         152          63   \n",
      "1     1           2   Female         45         152          63   \n",
      "2     1           2   Female         45         152          63   \n",
      "3     2           3   Female         50         157          50   \n",
      "4     2           3   Female         50         157          50   \n",
      "\n",
      "   Systolic Blood Pressure(mmHg)  Diastolic Blood Pressure(mmHg)  \\\n",
      "0                            161                              89   \n",
      "1                            161                              89   \n",
      "2                            161                              89   \n",
      "3                            160                              93   \n",
      "4                            160                              93   \n",
      "\n",
      "   Heart Rate(b/m)  BMI(kg/m^2)  ...  2091  2092  2093  2094  2095  2096  \\\n",
      "0               97    27.268006  ...  1766  1766  1766  1833  1833  1827   \n",
      "1               97    27.268006  ...  1985  1985  2026  2026  2026  1977   \n",
      "2               97    27.268006  ...  1942  1900  1900  1938  1938  1938   \n",
      "3               76    20.284799  ...  2073  2072  2072  2072  2051  2051   \n",
      "4               76    20.284799  ...  2021  2010  2010  2010  2001  2001   \n",
      "\n",
      "   2097  2098  2099  2100  \n",
      "0  1827  1827  1754  1754  \n",
      "1  1977  1997  1997  1997  \n",
      "2  1924  1924  1929  1929  \n",
      "3  2036  2036  2036  2045  \n",
      "4  2003  2003  2003  1989  \n",
      "\n",
      "[5 rows x 2114 columns]\n"
     ]
    }
   ],
   "source": [
    "url = \"https://raw.githubusercontent.com/MyungKyuYi/AI-class/main/combined_dataset-1.xlsx\"\n",
    "\n",
    "# 파일 다운로드\n",
    "response = requests.get(url)\n",
    "with open(\"combined_dataset-1.xlsx\", \"wb\") as file:\n",
    "    file.write(response.content)\n",
    "\n",
    "# 다운로드한 파일을 Pandas로 읽기\n",
    "df = pd.read_excel(\"combined_dataset-1.xlsx\", engine=\"openpyxl\")\n",
    "\n",
    "print(df.head())  "
   ],
   "metadata": {
    "collapsed": false,
    "ExecuteTime": {
     "end_time": "2025-03-11T00:39:09.127086Z",
     "start_time": "2025-03-11T00:38:57.036160Z"
    }
   },
   "id": "dd36ad34f1f5fd09",
   "execution_count": 4
  },
  {
   "cell_type": "code",
   "outputs": [
    {
     "data": {
      "text/plain": "     Num.  subject_ID Sex(M/F)  Age(year)  Height(cm)  Weight(kg)  \\\n0       1           2   Female         45         152          63   \n1       1           2   Female         45         152          63   \n2       1           2   Female         45         152          63   \n3       2           3   Female         50         157          50   \n4       2           3   Female         50         157          50   \n..    ...         ...      ...        ...         ...         ...   \n652   218         418     Male         25         173          63   \n653   218         418     Male         25         173          63   \n654   219         419     Male         24         175          58   \n655   219         419     Male         24         175          58   \n656   219         419     Male         24         175          58   \n\n     Systolic Blood Pressure(mmHg)  Diastolic Blood Pressure(mmHg)  \\\n0                              161                              89   \n1                              161                              89   \n2                              161                              89   \n3                              160                              93   \n4                              160                              93   \n..                             ...                             ...   \n652                            106                              69   \n653                            106                              69   \n654                            108                              68   \n655                            108                              68   \n656                            108                              68   \n\n     Heart Rate(b/m)  BMI(kg/m^2)  ...  2091  2092  2093  2094  2095  2096  \\\n0                 97    27.268006  ...  1766  1766  1766  1833  1833  1827   \n1                 97    27.268006  ...  1985  1985  2026  2026  2026  1977   \n2                 97    27.268006  ...  1942  1900  1900  1938  1938  1938   \n3                 76    20.284799  ...  2073  2072  2072  2072  2051  2051   \n4                 76    20.284799  ...  2021  2010  2010  2010  2001  2001   \n..               ...          ...  ...   ...   ...   ...   ...   ...   ...   \n652               67    21.049818  ...  2702  2671  2679  2675  2695  2703   \n653               67    21.049818  ...  2391  2362  2378  2363  2323  2355   \n654               65    18.938776  ...  2399  2463  2415  2406  2407  2447   \n655               65    18.938776  ...  3075  3091  3067  3051  3121  3135   \n656               65    18.938776  ...  2623  2627  2674  2670  2662  2647   \n\n     2097  2098  2099  2100  \n0    1827  1827  1754  1754  \n1    1977  1997  1997  1997  \n2    1924  1924  1929  1929  \n3    2036  2036  2036  2045  \n4    2003  2003  2003  1989  \n..    ...   ...   ...   ...  \n652  2667  2662  2687  2635  \n653  2355  2395  2362  2367  \n654  2435  2422  2451  2379  \n655  3091  3103  3146  3151  \n656  2631  2611  2639  2623  \n\n[657 rows x 2114 columns]",
      "text/html": "<div>\n<style scoped>\n    .dataframe tbody tr th:only-of-type {\n        vertical-align: middle;\n    }\n\n    .dataframe tbody tr th {\n        vertical-align: top;\n    }\n\n    .dataframe thead th {\n        text-align: right;\n    }\n</style>\n<table border=\"1\" class=\"dataframe\">\n  <thead>\n    <tr style=\"text-align: right;\">\n      <th></th>\n      <th>Num.</th>\n      <th>subject_ID</th>\n      <th>Sex(M/F)</th>\n      <th>Age(year)</th>\n      <th>Height(cm)</th>\n      <th>Weight(kg)</th>\n      <th>Systolic Blood Pressure(mmHg)</th>\n      <th>Diastolic Blood Pressure(mmHg)</th>\n      <th>Heart Rate(b/m)</th>\n      <th>BMI(kg/m^2)</th>\n      <th>...</th>\n      <th>2091</th>\n      <th>2092</th>\n      <th>2093</th>\n      <th>2094</th>\n      <th>2095</th>\n      <th>2096</th>\n      <th>2097</th>\n      <th>2098</th>\n      <th>2099</th>\n      <th>2100</th>\n    </tr>\n  </thead>\n  <tbody>\n    <tr>\n      <th>0</th>\n      <td>1</td>\n      <td>2</td>\n      <td>Female</td>\n      <td>45</td>\n      <td>152</td>\n      <td>63</td>\n      <td>161</td>\n      <td>89</td>\n      <td>97</td>\n      <td>27.268006</td>\n      <td>...</td>\n      <td>1766</td>\n      <td>1766</td>\n      <td>1766</td>\n      <td>1833</td>\n      <td>1833</td>\n      <td>1827</td>\n      <td>1827</td>\n      <td>1827</td>\n      <td>1754</td>\n      <td>1754</td>\n    </tr>\n    <tr>\n      <th>1</th>\n      <td>1</td>\n      <td>2</td>\n      <td>Female</td>\n      <td>45</td>\n      <td>152</td>\n      <td>63</td>\n      <td>161</td>\n      <td>89</td>\n      <td>97</td>\n      <td>27.268006</td>\n      <td>...</td>\n      <td>1985</td>\n      <td>1985</td>\n      <td>2026</td>\n      <td>2026</td>\n      <td>2026</td>\n      <td>1977</td>\n      <td>1977</td>\n      <td>1997</td>\n      <td>1997</td>\n      <td>1997</td>\n    </tr>\n    <tr>\n      <th>2</th>\n      <td>1</td>\n      <td>2</td>\n      <td>Female</td>\n      <td>45</td>\n      <td>152</td>\n      <td>63</td>\n      <td>161</td>\n      <td>89</td>\n      <td>97</td>\n      <td>27.268006</td>\n      <td>...</td>\n      <td>1942</td>\n      <td>1900</td>\n      <td>1900</td>\n      <td>1938</td>\n      <td>1938</td>\n      <td>1938</td>\n      <td>1924</td>\n      <td>1924</td>\n      <td>1929</td>\n      <td>1929</td>\n    </tr>\n    <tr>\n      <th>3</th>\n      <td>2</td>\n      <td>3</td>\n      <td>Female</td>\n      <td>50</td>\n      <td>157</td>\n      <td>50</td>\n      <td>160</td>\n      <td>93</td>\n      <td>76</td>\n      <td>20.284799</td>\n      <td>...</td>\n      <td>2073</td>\n      <td>2072</td>\n      <td>2072</td>\n      <td>2072</td>\n      <td>2051</td>\n      <td>2051</td>\n      <td>2036</td>\n      <td>2036</td>\n      <td>2036</td>\n      <td>2045</td>\n    </tr>\n    <tr>\n      <th>4</th>\n      <td>2</td>\n      <td>3</td>\n      <td>Female</td>\n      <td>50</td>\n      <td>157</td>\n      <td>50</td>\n      <td>160</td>\n      <td>93</td>\n      <td>76</td>\n      <td>20.284799</td>\n      <td>...</td>\n      <td>2021</td>\n      <td>2010</td>\n      <td>2010</td>\n      <td>2010</td>\n      <td>2001</td>\n      <td>2001</td>\n      <td>2003</td>\n      <td>2003</td>\n      <td>2003</td>\n      <td>1989</td>\n    </tr>\n    <tr>\n      <th>...</th>\n      <td>...</td>\n      <td>...</td>\n      <td>...</td>\n      <td>...</td>\n      <td>...</td>\n      <td>...</td>\n      <td>...</td>\n      <td>...</td>\n      <td>...</td>\n      <td>...</td>\n      <td>...</td>\n      <td>...</td>\n      <td>...</td>\n      <td>...</td>\n      <td>...</td>\n      <td>...</td>\n      <td>...</td>\n      <td>...</td>\n      <td>...</td>\n      <td>...</td>\n      <td>...</td>\n    </tr>\n    <tr>\n      <th>652</th>\n      <td>218</td>\n      <td>418</td>\n      <td>Male</td>\n      <td>25</td>\n      <td>173</td>\n      <td>63</td>\n      <td>106</td>\n      <td>69</td>\n      <td>67</td>\n      <td>21.049818</td>\n      <td>...</td>\n      <td>2702</td>\n      <td>2671</td>\n      <td>2679</td>\n      <td>2675</td>\n      <td>2695</td>\n      <td>2703</td>\n      <td>2667</td>\n      <td>2662</td>\n      <td>2687</td>\n      <td>2635</td>\n    </tr>\n    <tr>\n      <th>653</th>\n      <td>218</td>\n      <td>418</td>\n      <td>Male</td>\n      <td>25</td>\n      <td>173</td>\n      <td>63</td>\n      <td>106</td>\n      <td>69</td>\n      <td>67</td>\n      <td>21.049818</td>\n      <td>...</td>\n      <td>2391</td>\n      <td>2362</td>\n      <td>2378</td>\n      <td>2363</td>\n      <td>2323</td>\n      <td>2355</td>\n      <td>2355</td>\n      <td>2395</td>\n      <td>2362</td>\n      <td>2367</td>\n    </tr>\n    <tr>\n      <th>654</th>\n      <td>219</td>\n      <td>419</td>\n      <td>Male</td>\n      <td>24</td>\n      <td>175</td>\n      <td>58</td>\n      <td>108</td>\n      <td>68</td>\n      <td>65</td>\n      <td>18.938776</td>\n      <td>...</td>\n      <td>2399</td>\n      <td>2463</td>\n      <td>2415</td>\n      <td>2406</td>\n      <td>2407</td>\n      <td>2447</td>\n      <td>2435</td>\n      <td>2422</td>\n      <td>2451</td>\n      <td>2379</td>\n    </tr>\n    <tr>\n      <th>655</th>\n      <td>219</td>\n      <td>419</td>\n      <td>Male</td>\n      <td>24</td>\n      <td>175</td>\n      <td>58</td>\n      <td>108</td>\n      <td>68</td>\n      <td>65</td>\n      <td>18.938776</td>\n      <td>...</td>\n      <td>3075</td>\n      <td>3091</td>\n      <td>3067</td>\n      <td>3051</td>\n      <td>3121</td>\n      <td>3135</td>\n      <td>3091</td>\n      <td>3103</td>\n      <td>3146</td>\n      <td>3151</td>\n    </tr>\n    <tr>\n      <th>656</th>\n      <td>219</td>\n      <td>419</td>\n      <td>Male</td>\n      <td>24</td>\n      <td>175</td>\n      <td>58</td>\n      <td>108</td>\n      <td>68</td>\n      <td>65</td>\n      <td>18.938776</td>\n      <td>...</td>\n      <td>2623</td>\n      <td>2627</td>\n      <td>2674</td>\n      <td>2670</td>\n      <td>2662</td>\n      <td>2647</td>\n      <td>2631</td>\n      <td>2611</td>\n      <td>2639</td>\n      <td>2623</td>\n    </tr>\n  </tbody>\n</table>\n<p>657 rows × 2114 columns</p>\n</div>"
     },
     "execution_count": 5,
     "metadata": {},
     "output_type": "execute_result"
    }
   ],
   "source": [
    "# 엑셀 파일 불러오기\n",
    "df = pd.read_excel(\"/Users/gangjimin/PycharmProjects/AI-Overview/week2/combined_dataset-1.xlsx\")\n",
    "test_df = pd.read_excel(url)\n",
    "\n",
    "test_df"
   ],
   "metadata": {
    "collapsed": false,
    "ExecuteTime": {
     "end_time": "2025-03-11T00:39:32.498303Z",
     "start_time": "2025-03-11T00:39:09.128251Z"
    }
   },
   "id": "77993053178cdfb6",
   "execution_count": 5
  },
  {
   "cell_type": "code",
   "outputs": [],
   "source": [],
   "metadata": {
    "collapsed": false
   },
   "id": "e189e94831ab6d10"
  }
 ],
 "metadata": {
  "kernelspec": {
   "display_name": "Python 3",
   "language": "python",
   "name": "python3"
  },
  "language_info": {
   "codemirror_mode": {
    "name": "ipython",
    "version": 2
   },
   "file_extension": ".py",
   "mimetype": "text/x-python",
   "name": "python",
   "nbconvert_exporter": "python",
   "pygments_lexer": "ipython2",
   "version": "2.7.6"
  }
 },
 "nbformat": 4,
 "nbformat_minor": 5
}
